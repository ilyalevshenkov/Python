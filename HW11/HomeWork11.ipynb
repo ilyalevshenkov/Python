{
 "cells": [
  {
   "cell_type": "code",
   "execution_count": 2,
   "id": "74e5fc69",
   "metadata": {},
   "outputs": [],
   "source": [
    "import pandas as pd\n"
   ]
  },
  {
   "cell_type": "code",
   "execution_count": 3,
   "id": "5356c385",
   "metadata": {},
   "outputs": [],
   "source": [
    "# 1)Прочесть с помощью pandas файл california_housing_test.csv\n",
    "df = pd.read_csv(\"california_housing_test.csv\", index_col=0)"
   ]
  },
  {
   "cell_type": "code",
   "execution_count": 4,
   "id": "78bc61c5",
   "metadata": {},
   "outputs": [
    {
     "data": {
      "text/plain": [
       "(3402, 8)"
      ]
     },
     "execution_count": 4,
     "metadata": {},
     "output_type": "execute_result"
    }
   ],
   "source": [
    "# 2)Посмотреть сколько в нем строк и столбцов\n",
    "df.shape"
   ]
  },
  {
   "cell_type": "code",
   "execution_count": 5,
   "id": "50c8bfa8",
   "metadata": {},
   "outputs": [
    {
     "name": "stdout",
     "output_type": "stream",
     "text": [
      "<class 'pandas.core.frame.DataFrame'>\n",
      "Int64Index: 3402 entries, 1 to 3402\n",
      "Data columns (total 8 columns):\n",
      " #   Column              Non-Null Count  Dtype  \n",
      "---  ------              --------------  -----  \n",
      " 0   longitude           3402 non-null   float64\n",
      " 1   latitude            3402 non-null   float64\n",
      " 2   housing_median_age  3402 non-null   int64  \n",
      " 3   total_rooms         3402 non-null   int64  \n",
      " 4   total_bedrooms      3402 non-null   int64  \n",
      " 5   population          3402 non-null   int64  \n",
      " 6   households          3402 non-null   int64  \n",
      " 7   median_income       3402 non-null   float64\n",
      "dtypes: float64(3), int64(5)\n",
      "memory usage: 239.2 KB\n"
     ]
    }
   ],
   "source": [
    "# 3)Определить какой тип данных имеют столбцы\n",
    "df.info()"
   ]
  },
  {
   "cell_type": "code",
   "execution_count": 6,
   "id": "2703a2a9",
   "metadata": {},
   "outputs": [
    {
     "data": {
      "text/plain": [
       "1      -117.66\n",
       "2      -117.07\n",
       "3      -117.91\n",
       "4      -117.19\n",
       "5      -119.58\n",
       "         ...  \n",
       "3393   -122.10\n",
       "3394   -117.52\n",
       "3396   -117.01\n",
       "3399   -117.88\n",
       "3400   -118.32\n",
       "Name: longitude, Length: 2216, dtype: float64"
      ]
     },
     "execution_count": 6,
     "metadata": {},
     "output_type": "execute_result"
    }
   ],
   "source": [
    "# 4)Показать longitude где housing_median_age < 35\n",
    "df[\"longitude\"][df[\"housing_median_age\"] < 35]"
   ]
  },
  {
   "cell_type": "code",
   "execution_count": 7,
   "id": "bf9c459a",
   "metadata": {},
   "outputs": [
    {
     "data": {
      "text/html": [
       "<div>\n",
       "<style scoped>\n",
       "    .dataframe tbody tr th:only-of-type {\n",
       "        vertical-align: middle;\n",
       "    }\n",
       "\n",
       "    .dataframe tbody tr th {\n",
       "        vertical-align: top;\n",
       "    }\n",
       "\n",
       "    .dataframe thead th {\n",
       "        text-align: right;\n",
       "    }\n",
       "</style>\n",
       "<table border=\"1\" class=\"dataframe\">\n",
       "  <thead>\n",
       "    <tr style=\"text-align: right;\">\n",
       "      <th></th>\n",
       "      <th>longitude</th>\n",
       "      <th>latitude</th>\n",
       "    </tr>\n",
       "  </thead>\n",
       "  <tbody>\n",
       "    <tr>\n",
       "      <th>1</th>\n",
       "      <td>-117.66</td>\n",
       "      <td>35.60</td>\n",
       "    </tr>\n",
       "    <tr>\n",
       "      <th>2</th>\n",
       "      <td>-117.07</td>\n",
       "      <td>32.71</td>\n",
       "    </tr>\n",
       "    <tr>\n",
       "      <th>3</th>\n",
       "      <td>-117.91</td>\n",
       "      <td>33.61</td>\n",
       "    </tr>\n",
       "    <tr>\n",
       "      <th>4</th>\n",
       "      <td>-117.19</td>\n",
       "      <td>34.05</td>\n",
       "    </tr>\n",
       "    <tr>\n",
       "      <th>5</th>\n",
       "      <td>-119.58</td>\n",
       "      <td>36.83</td>\n",
       "    </tr>\n",
       "    <tr>\n",
       "      <th>...</th>\n",
       "      <td>...</td>\n",
       "      <td>...</td>\n",
       "    </tr>\n",
       "    <tr>\n",
       "      <th>3398</th>\n",
       "      <td>-118.33</td>\n",
       "      <td>34.09</td>\n",
       "    </tr>\n",
       "    <tr>\n",
       "      <th>3399</th>\n",
       "      <td>-117.88</td>\n",
       "      <td>34.09</td>\n",
       "    </tr>\n",
       "    <tr>\n",
       "      <th>3400</th>\n",
       "      <td>-118.32</td>\n",
       "      <td>34.26</td>\n",
       "    </tr>\n",
       "    <tr>\n",
       "      <th>3401</th>\n",
       "      <td>-118.12</td>\n",
       "      <td>33.80</td>\n",
       "    </tr>\n",
       "    <tr>\n",
       "      <th>3402</th>\n",
       "      <td>-118.19</td>\n",
       "      <td>33.78</td>\n",
       "    </tr>\n",
       "  </tbody>\n",
       "</table>\n",
       "<p>3402 rows × 2 columns</p>\n",
       "</div>"
      ],
      "text/plain": [
       "      longitude  latitude\n",
       "1       -117.66     35.60\n",
       "2       -117.07     32.71\n",
       "3       -117.91     33.61\n",
       "4       -117.19     34.05\n",
       "5       -119.58     36.83\n",
       "...         ...       ...\n",
       "3398    -118.33     34.09\n",
       "3399    -117.88     34.09\n",
       "3400    -118.32     34.26\n",
       "3401    -118.12     33.80\n",
       "3402    -118.19     33.78\n",
       "\n",
       "[3402 rows x 2 columns]"
      ]
     },
     "execution_count": 7,
     "metadata": {},
     "output_type": "execute_result"
    }
   ],
   "source": [
    "# 5)Показать столбцы longitude и latitude\n",
    "df[[\"longitude\", \"latitude\"]]"
   ]
  },
  {
   "cell_type": "code",
   "execution_count": 8,
   "id": "34fc3d0d",
   "metadata": {},
   "outputs": [
    {
     "data": {
      "text/html": [
       "<div>\n",
       "<style scoped>\n",
       "    .dataframe tbody tr th:only-of-type {\n",
       "        vertical-align: middle;\n",
       "    }\n",
       "\n",
       "    .dataframe tbody tr th {\n",
       "        vertical-align: top;\n",
       "    }\n",
       "\n",
       "    .dataframe thead th {\n",
       "        text-align: right;\n",
       "    }\n",
       "</style>\n",
       "<table border=\"1\" class=\"dataframe\">\n",
       "  <thead>\n",
       "    <tr style=\"text-align: right;\">\n",
       "      <th></th>\n",
       "      <th>longitude</th>\n",
       "      <th>latitude</th>\n",
       "      <th>housing_median_age</th>\n",
       "      <th>total_rooms</th>\n",
       "      <th>total_bedrooms</th>\n",
       "      <th>population</th>\n",
       "      <th>households</th>\n",
       "      <th>median_income</th>\n",
       "    </tr>\n",
       "  </thead>\n",
       "  <tbody>\n",
       "    <tr>\n",
       "      <th>13</th>\n",
       "      <td>-118.21</td>\n",
       "      <td>33.79</td>\n",
       "      <td>39</td>\n",
       "      <td>1598</td>\n",
       "      <td>458</td>\n",
       "      <td>1691</td>\n",
       "      <td>399</td>\n",
       "      <td>2.3605</td>\n",
       "    </tr>\n",
       "    <tr>\n",
       "      <th>19</th>\n",
       "      <td>-122.41</td>\n",
       "      <td>37.80</td>\n",
       "      <td>30</td>\n",
       "      <td>1821</td>\n",
       "      <td>738</td>\n",
       "      <td>1648</td>\n",
       "      <td>684</td>\n",
       "      <td>0.8836</td>\n",
       "    </tr>\n",
       "    <tr>\n",
       "      <th>70</th>\n",
       "      <td>-117.93</td>\n",
       "      <td>34.01</td>\n",
       "      <td>33</td>\n",
       "      <td>1733</td>\n",
       "      <td>361</td>\n",
       "      <td>1757</td>\n",
       "      <td>375</td>\n",
       "      <td>4.2266</td>\n",
       "    </tr>\n",
       "    <tr>\n",
       "      <th>101</th>\n",
       "      <td>-121.24</td>\n",
       "      <td>36.33</td>\n",
       "      <td>13</td>\n",
       "      <td>1642</td>\n",
       "      <td>418</td>\n",
       "      <td>1534</td>\n",
       "      <td>388</td>\n",
       "      <td>3.1222</td>\n",
       "    </tr>\n",
       "    <tr>\n",
       "      <th>121</th>\n",
       "      <td>-118.22</td>\n",
       "      <td>33.90</td>\n",
       "      <td>35</td>\n",
       "      <td>1649</td>\n",
       "      <td>424</td>\n",
       "      <td>1786</td>\n",
       "      <td>388</td>\n",
       "      <td>1.4091</td>\n",
       "    </tr>\n",
       "    <tr>\n",
       "      <th>...</th>\n",
       "      <td>...</td>\n",
       "      <td>...</td>\n",
       "      <td>...</td>\n",
       "      <td>...</td>\n",
       "      <td>...</td>\n",
       "      <td>...</td>\n",
       "      <td>...</td>\n",
       "      <td>...</td>\n",
       "    </tr>\n",
       "    <tr>\n",
       "      <th>3152</th>\n",
       "      <td>-118.36</td>\n",
       "      <td>34.22</td>\n",
       "      <td>37</td>\n",
       "      <td>1512</td>\n",
       "      <td>348</td>\n",
       "      <td>1545</td>\n",
       "      <td>351</td>\n",
       "      <td>3.7663</td>\n",
       "    </tr>\n",
       "    <tr>\n",
       "      <th>3173</th>\n",
       "      <td>-117.89</td>\n",
       "      <td>33.74</td>\n",
       "      <td>32</td>\n",
       "      <td>1562</td>\n",
       "      <td>365</td>\n",
       "      <td>2145</td>\n",
       "      <td>347</td>\n",
       "      <td>2.9167</td>\n",
       "    </tr>\n",
       "    <tr>\n",
       "      <th>3216</th>\n",
       "      <td>-118.23</td>\n",
       "      <td>33.92</td>\n",
       "      <td>32</td>\n",
       "      <td>1735</td>\n",
       "      <td>430</td>\n",
       "      <td>1699</td>\n",
       "      <td>386</td>\n",
       "      <td>1.1793</td>\n",
       "    </tr>\n",
       "    <tr>\n",
       "      <th>3333</th>\n",
       "      <td>-119.76</td>\n",
       "      <td>36.71</td>\n",
       "      <td>29</td>\n",
       "      <td>1745</td>\n",
       "      <td>441</td>\n",
       "      <td>1530</td>\n",
       "      <td>391</td>\n",
       "      <td>1.5611</td>\n",
       "    </tr>\n",
       "    <tr>\n",
       "      <th>3373</th>\n",
       "      <td>-118.20</td>\n",
       "      <td>33.99</td>\n",
       "      <td>35</td>\n",
       "      <td>1705</td>\n",
       "      <td>523</td>\n",
       "      <td>2252</td>\n",
       "      <td>508</td>\n",
       "      <td>2.3421</td>\n",
       "    </tr>\n",
       "  </tbody>\n",
       "</table>\n",
       "<p>106 rows × 8 columns</p>\n",
       "</div>"
      ],
      "text/plain": [
       "      longitude  latitude  housing_median_age  total_rooms  total_bedrooms  \\\n",
       "13      -118.21     33.79                  39         1598             458   \n",
       "19      -122.41     37.80                  30         1821             738   \n",
       "70      -117.93     34.01                  33         1733             361   \n",
       "101     -121.24     36.33                  13         1642             418   \n",
       "121     -118.22     33.90                  35         1649             424   \n",
       "...         ...       ...                 ...          ...             ...   \n",
       "3152    -118.36     34.22                  37         1512             348   \n",
       "3173    -117.89     33.74                  32         1562             365   \n",
       "3216    -118.23     33.92                  32         1735             430   \n",
       "3333    -119.76     36.71                  29         1745             441   \n",
       "3373    -118.20     33.99                  35         1705             523   \n",
       "\n",
       "      population  households  median_income  \n",
       "13          1691         399         2.3605  \n",
       "19          1648         684         0.8836  \n",
       "70          1757         375         4.2266  \n",
       "101         1534         388         3.1222  \n",
       "121         1786         388         1.4091  \n",
       "...          ...         ...            ...  \n",
       "3152        1545         351         3.7663  \n",
       "3173        2145         347         2.9167  \n",
       "3216        1699         386         1.1793  \n",
       "3333        1530         391         1.5611  \n",
       "3373        2252         508         2.3421  \n",
       "\n",
       "[106 rows x 8 columns]"
      ]
     },
     "execution_count": 8,
     "metadata": {},
     "output_type": "execute_result"
    }
   ],
   "source": [
    "# 6)Выбрать данные где total_rooms < 2000 и population > 1500\n",
    "df[(df[\"total_rooms\"] < 2000) & (df[\"population\"] > 1500)]"
   ]
  },
  {
   "cell_type": "code",
   "execution_count": 9,
   "id": "2ef2f7b2",
   "metadata": {},
   "outputs": [
    {
     "data": {
      "text/plain": [
       "min        8.0\n",
       "max    35682.0\n",
       "Name: population, dtype: float64"
      ]
     },
     "execution_count": 9,
     "metadata": {},
     "output_type": "execute_result"
    }
   ],
   "source": [
    "# 7)Определить какое максимальное и минимальное значение population\n",
    "df.population.describe()[[\"min\",\"max\"]]"
   ]
  },
  {
   "cell_type": "code",
   "execution_count": 10,
   "id": "5f21ef1b",
   "metadata": {},
   "outputs": [
    {
     "data": {
      "text/plain": [
       "-115.37"
      ]
     },
     "execution_count": 10,
     "metadata": {},
     "output_type": "execute_result"
    }
   ],
   "source": [
    "# 8)(Доп) Показать максимальное longitude, где median_income > 3\n",
    "df.loc[df[\"median_income\"] > 3, \"longitude\"].max()"
   ]
  },
  {
   "cell_type": "code",
   "execution_count": 11,
   "id": "7c11f64a",
   "metadata": {},
   "outputs": [
    {
     "data": {
      "text/plain": [
       "7"
      ]
     },
     "execution_count": 11,
     "metadata": {},
     "output_type": "execute_result"
    }
   ],
   "source": [
    "# 9)(Доп) Узнать какая максимальная total_bedrooms при минимальном значении households\n",
    "df[\"total_bedrooms\"][df[\"households\"] == df[\"households\"].min()].max()"
   ]
  },
  {
   "cell_type": "code",
   "execution_count": null,
   "id": "741e6763",
   "metadata": {},
   "outputs": [],
   "source": []
  }
 ],
 "metadata": {
  "kernelspec": {
   "display_name": "Python 3 (ipykernel)",
   "language": "python",
   "name": "python3"
  },
  "language_info": {
   "codemirror_mode": {
    "name": "ipython",
    "version": 3
   },
   "file_extension": ".py",
   "mimetype": "text/x-python",
   "name": "python",
   "nbconvert_exporter": "python",
   "pygments_lexer": "ipython3",
   "version": "3.9.13"
  }
 },
 "nbformat": 4,
 "nbformat_minor": 5
}
